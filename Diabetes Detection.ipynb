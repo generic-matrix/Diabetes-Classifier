{
 "cells": [
  {
   "cell_type": "code",
   "execution_count": 1,
   "metadata": {},
   "outputs": [],
   "source": [
    "import numpy as np\n",
    "import pandas as pd"
   ]
  },
  {
   "cell_type": "code",
   "execution_count": 2,
   "metadata": {},
   "outputs": [
    {
     "name": "stdout",
     "output_type": "stream",
     "text": [
      "(576, 8)\n",
      "(576, 1)\n",
      "(192, 8)\n"
     ]
    }
   ],
   "source": [
    "X = pd.read_csv('Training Data/Diabetes_XTrain.csv').values\n",
    "print(X.shape)\n",
    "Y = pd.read_csv('Training Data/Diabetes_YTrain.csv').values\n",
    "print(Y.shape)\n",
    "X_test = pd.read_csv('Test Cases/Diabetes_Xtest.csv').values\n",
    "print(X_test.shape)"
   ]
  },
  {
   "cell_type": "code",
   "execution_count": 80,
   "metadata": {},
   "outputs": [],
   "source": [
    "def dist(a1,a2):\n",
    "    return np.sum((a1-a2)**2)**.5\n",
    "\n",
    "def knn(X,Y,test_point,k=17):\n",
    "    m = X.shape[0]\n",
    "    n = test_point.shape[0]\n",
    "    label = []\n",
    "    for j in range(n):\n",
    "        d = []\n",
    "        for i in range(m):\n",
    "            dis = dist(test_point[j],X[i])\n",
    "            d.append((dis,Y[i]))\n",
    "\n",
    "        d.sort()\n",
    "        d = np.array(d[:k])[:,1]\n",
    "        uniq,freq = np.unique(d,return_counts=True)\n",
    "        idx = np.argmax(freq)\n",
    "        label.append((uniq[idx]))\n",
    "    \n",
    "    return label"
   ]
  },
  {
   "cell_type": "code",
   "execution_count": 81,
   "metadata": {},
   "outputs": [],
   "source": [
    "Y_pred = knn(X,Y,X_test)"
   ]
  },
  {
   "cell_type": "code",
   "execution_count": 82,
   "metadata": {},
   "outputs": [],
   "source": [
    "Y_PRED = np.array(Y_pred[:])"
   ]
  },
  {
   "cell_type": "code",
   "execution_count": 83,
   "metadata": {},
   "outputs": [
    {
     "data": {
      "text/plain": [
       "(192,)"
      ]
     },
     "execution_count": 83,
     "metadata": {},
     "output_type": "execute_result"
    }
   ],
   "source": [
    "Y_PRED.shape"
   ]
  },
  {
   "cell_type": "code",
   "execution_count": 84,
   "metadata": {},
   "outputs": [],
   "source": [
    "df=pd.DataFrame(Y_PRED,columns=[\"Outcome\"])"
   ]
  },
  {
   "cell_type": "code",
   "execution_count": 85,
   "metadata": {},
   "outputs": [],
   "source": [
    "df.to_csv('Y_pridiction.csv',index=False)"
   ]
  },
  {
   "cell_type": "code",
   "execution_count": null,
   "metadata": {},
   "outputs": [],
   "source": []
  },
  {
   "cell_type": "code",
   "execution_count": null,
   "metadata": {},
   "outputs": [],
   "source": []
  }
 ],
 "metadata": {
  "kernelspec": {
   "display_name": "Python 3",
   "language": "python",
   "name": "python3"
  },
  "language_info": {
   "codemirror_mode": {
    "name": "ipython",
    "version": 3
   },
   "file_extension": ".py",
   "mimetype": "text/x-python",
   "name": "python",
   "nbconvert_exporter": "python",
   "pygments_lexer": "ipython3",
   "version": "3.6.8"
  }
 },
 "nbformat": 4,
 "nbformat_minor": 2
}
